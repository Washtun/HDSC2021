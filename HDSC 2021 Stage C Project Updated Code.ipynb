{
 "cells": [
  {
   "cell_type": "code",
   "execution_count": 1,
   "metadata": {},
   "outputs": [],
   "source": [
    "# Importing our libraries\n",
    "import pandas as pd\n",
    "import numpy as np\n",
    "import matplotlib.pyplot as plt\n",
    "import seaborn as sns"
   ]
  },
  {
   "cell_type": "code",
   "execution_count": 2,
   "metadata": {},
   "outputs": [],
   "source": [
    "#Reading the dataset from the same folder as the working folder\n",
    "#EGS means Electrical Grid Stability\n",
    "EGS_data = pd.read_csv('Data_for_UCI_named.csv')"
   ]
  },
  {
   "cell_type": "code",
   "execution_count": 3,
   "metadata": {},
   "outputs": [
    {
     "data": {
      "text/html": [
       "<div>\n",
       "<style scoped>\n",
       "    .dataframe tbody tr th:only-of-type {\n",
       "        vertical-align: middle;\n",
       "    }\n",
       "\n",
       "    .dataframe tbody tr th {\n",
       "        vertical-align: top;\n",
       "    }\n",
       "\n",
       "    .dataframe thead th {\n",
       "        text-align: right;\n",
       "    }\n",
       "</style>\n",
       "<table border=\"1\" class=\"dataframe\">\n",
       "  <thead>\n",
       "    <tr style=\"text-align: right;\">\n",
       "      <th></th>\n",
       "      <th>tau1</th>\n",
       "      <th>tau2</th>\n",
       "      <th>tau3</th>\n",
       "      <th>tau4</th>\n",
       "      <th>p1</th>\n",
       "      <th>p2</th>\n",
       "      <th>p3</th>\n",
       "      <th>p4</th>\n",
       "      <th>g1</th>\n",
       "      <th>g2</th>\n",
       "      <th>g3</th>\n",
       "      <th>g4</th>\n",
       "      <th>stab</th>\n",
       "      <th>stabf</th>\n",
       "    </tr>\n",
       "  </thead>\n",
       "  <tbody>\n",
       "    <tr>\n",
       "      <td>0</td>\n",
       "      <td>2.959060</td>\n",
       "      <td>3.079885</td>\n",
       "      <td>8.381025</td>\n",
       "      <td>9.780754</td>\n",
       "      <td>3.763085</td>\n",
       "      <td>-0.782604</td>\n",
       "      <td>-1.257395</td>\n",
       "      <td>-1.723086</td>\n",
       "      <td>0.650456</td>\n",
       "      <td>0.859578</td>\n",
       "      <td>0.887445</td>\n",
       "      <td>0.958034</td>\n",
       "      <td>0.055347</td>\n",
       "      <td>unstable</td>\n",
       "    </tr>\n",
       "    <tr>\n",
       "      <td>1</td>\n",
       "      <td>9.304097</td>\n",
       "      <td>4.902524</td>\n",
       "      <td>3.047541</td>\n",
       "      <td>1.369357</td>\n",
       "      <td>5.067812</td>\n",
       "      <td>-1.940058</td>\n",
       "      <td>-1.872742</td>\n",
       "      <td>-1.255012</td>\n",
       "      <td>0.413441</td>\n",
       "      <td>0.862414</td>\n",
       "      <td>0.562139</td>\n",
       "      <td>0.781760</td>\n",
       "      <td>-0.005957</td>\n",
       "      <td>stable</td>\n",
       "    </tr>\n",
       "    <tr>\n",
       "      <td>2</td>\n",
       "      <td>8.971707</td>\n",
       "      <td>8.848428</td>\n",
       "      <td>3.046479</td>\n",
       "      <td>1.214518</td>\n",
       "      <td>3.405158</td>\n",
       "      <td>-1.207456</td>\n",
       "      <td>-1.277210</td>\n",
       "      <td>-0.920492</td>\n",
       "      <td>0.163041</td>\n",
       "      <td>0.766689</td>\n",
       "      <td>0.839444</td>\n",
       "      <td>0.109853</td>\n",
       "      <td>0.003471</td>\n",
       "      <td>unstable</td>\n",
       "    </tr>\n",
       "    <tr>\n",
       "      <td>3</td>\n",
       "      <td>0.716415</td>\n",
       "      <td>7.669600</td>\n",
       "      <td>4.486641</td>\n",
       "      <td>2.340563</td>\n",
       "      <td>3.963791</td>\n",
       "      <td>-1.027473</td>\n",
       "      <td>-1.938944</td>\n",
       "      <td>-0.997374</td>\n",
       "      <td>0.446209</td>\n",
       "      <td>0.976744</td>\n",
       "      <td>0.929381</td>\n",
       "      <td>0.362718</td>\n",
       "      <td>0.028871</td>\n",
       "      <td>unstable</td>\n",
       "    </tr>\n",
       "    <tr>\n",
       "      <td>4</td>\n",
       "      <td>3.134112</td>\n",
       "      <td>7.608772</td>\n",
       "      <td>4.943759</td>\n",
       "      <td>9.857573</td>\n",
       "      <td>3.525811</td>\n",
       "      <td>-1.125531</td>\n",
       "      <td>-1.845975</td>\n",
       "      <td>-0.554305</td>\n",
       "      <td>0.797110</td>\n",
       "      <td>0.455450</td>\n",
       "      <td>0.656947</td>\n",
       "      <td>0.820923</td>\n",
       "      <td>0.049860</td>\n",
       "      <td>unstable</td>\n",
       "    </tr>\n",
       "  </tbody>\n",
       "</table>\n",
       "</div>"
      ],
      "text/plain": [
       "       tau1      tau2      tau3      tau4        p1        p2        p3  \\\n",
       "0  2.959060  3.079885  8.381025  9.780754  3.763085 -0.782604 -1.257395   \n",
       "1  9.304097  4.902524  3.047541  1.369357  5.067812 -1.940058 -1.872742   \n",
       "2  8.971707  8.848428  3.046479  1.214518  3.405158 -1.207456 -1.277210   \n",
       "3  0.716415  7.669600  4.486641  2.340563  3.963791 -1.027473 -1.938944   \n",
       "4  3.134112  7.608772  4.943759  9.857573  3.525811 -1.125531 -1.845975   \n",
       "\n",
       "         p4        g1        g2        g3        g4      stab     stabf  \n",
       "0 -1.723086  0.650456  0.859578  0.887445  0.958034  0.055347  unstable  \n",
       "1 -1.255012  0.413441  0.862414  0.562139  0.781760 -0.005957    stable  \n",
       "2 -0.920492  0.163041  0.766689  0.839444  0.109853  0.003471  unstable  \n",
       "3 -0.997374  0.446209  0.976744  0.929381  0.362718  0.028871  unstable  \n",
       "4 -0.554305  0.797110  0.455450  0.656947  0.820923  0.049860  unstable  "
      ]
     },
     "execution_count": 3,
     "metadata": {},
     "output_type": "execute_result"
    }
   ],
   "source": [
    "EGS_data.head()"
   ]
  },
  {
   "cell_type": "code",
   "execution_count": 4,
   "metadata": {},
   "outputs": [
    {
     "name": "stdout",
     "output_type": "stream",
     "text": [
      "<class 'pandas.core.frame.DataFrame'>\n",
      "RangeIndex: 10000 entries, 0 to 9999\n",
      "Data columns (total 14 columns):\n",
      "tau1     10000 non-null float64\n",
      "tau2     10000 non-null float64\n",
      "tau3     10000 non-null float64\n",
      "tau4     10000 non-null float64\n",
      "p1       10000 non-null float64\n",
      "p2       10000 non-null float64\n",
      "p3       10000 non-null float64\n",
      "p4       10000 non-null float64\n",
      "g1       10000 non-null float64\n",
      "g2       10000 non-null float64\n",
      "g3       10000 non-null float64\n",
      "g4       10000 non-null float64\n",
      "stab     10000 non-null float64\n",
      "stabf    10000 non-null object\n",
      "dtypes: float64(13), object(1)\n",
      "memory usage: 1.1+ MB\n"
     ]
    }
   ],
   "source": [
    "EGS_data.info()"
   ]
  },
  {
   "cell_type": "code",
   "execution_count": 5,
   "metadata": {
    "scrolled": true
   },
   "outputs": [
    {
     "data": {
      "text/plain": [
       "tau1     0\n",
       "tau2     0\n",
       "tau3     0\n",
       "tau4     0\n",
       "p1       0\n",
       "p2       0\n",
       "p3       0\n",
       "p4       0\n",
       "g1       0\n",
       "g2       0\n",
       "g3       0\n",
       "g4       0\n",
       "stab     0\n",
       "stabf    0\n",
       "dtype: int64"
      ]
     },
     "execution_count": 5,
     "metadata": {},
     "output_type": "execute_result"
    }
   ],
   "source": [
    "#Checking for missing value\n",
    "EGS_data.isnull().sum()"
   ]
  },
  {
   "cell_type": "code",
   "execution_count": 6,
   "metadata": {},
   "outputs": [],
   "source": [
    "# Dropping The 'stab' variable\n",
    "EGS_data.drop('stab', axis = 1, inplace=True)"
   ]
  },
  {
   "cell_type": "code",
   "execution_count": 7,
   "metadata": {},
   "outputs": [
    {
     "data": {
      "text/html": [
       "<div>\n",
       "<style scoped>\n",
       "    .dataframe tbody tr th:only-of-type {\n",
       "        vertical-align: middle;\n",
       "    }\n",
       "\n",
       "    .dataframe tbody tr th {\n",
       "        vertical-align: top;\n",
       "    }\n",
       "\n",
       "    .dataframe thead th {\n",
       "        text-align: right;\n",
       "    }\n",
       "</style>\n",
       "<table border=\"1\" class=\"dataframe\">\n",
       "  <thead>\n",
       "    <tr style=\"text-align: right;\">\n",
       "      <th></th>\n",
       "      <th>tau1</th>\n",
       "      <th>tau2</th>\n",
       "      <th>tau3</th>\n",
       "      <th>tau4</th>\n",
       "      <th>p1</th>\n",
       "      <th>p2</th>\n",
       "      <th>p3</th>\n",
       "      <th>p4</th>\n",
       "      <th>g1</th>\n",
       "      <th>g2</th>\n",
       "      <th>g3</th>\n",
       "      <th>g4</th>\n",
       "      <th>stabf</th>\n",
       "    </tr>\n",
       "  </thead>\n",
       "  <tbody>\n",
       "    <tr>\n",
       "      <td>0</td>\n",
       "      <td>2.959060</td>\n",
       "      <td>3.079885</td>\n",
       "      <td>8.381025</td>\n",
       "      <td>9.780754</td>\n",
       "      <td>3.763085</td>\n",
       "      <td>-0.782604</td>\n",
       "      <td>-1.257395</td>\n",
       "      <td>-1.723086</td>\n",
       "      <td>0.650456</td>\n",
       "      <td>0.859578</td>\n",
       "      <td>0.887445</td>\n",
       "      <td>0.958034</td>\n",
       "      <td>unstable</td>\n",
       "    </tr>\n",
       "    <tr>\n",
       "      <td>1</td>\n",
       "      <td>9.304097</td>\n",
       "      <td>4.902524</td>\n",
       "      <td>3.047541</td>\n",
       "      <td>1.369357</td>\n",
       "      <td>5.067812</td>\n",
       "      <td>-1.940058</td>\n",
       "      <td>-1.872742</td>\n",
       "      <td>-1.255012</td>\n",
       "      <td>0.413441</td>\n",
       "      <td>0.862414</td>\n",
       "      <td>0.562139</td>\n",
       "      <td>0.781760</td>\n",
       "      <td>stable</td>\n",
       "    </tr>\n",
       "    <tr>\n",
       "      <td>2</td>\n",
       "      <td>8.971707</td>\n",
       "      <td>8.848428</td>\n",
       "      <td>3.046479</td>\n",
       "      <td>1.214518</td>\n",
       "      <td>3.405158</td>\n",
       "      <td>-1.207456</td>\n",
       "      <td>-1.277210</td>\n",
       "      <td>-0.920492</td>\n",
       "      <td>0.163041</td>\n",
       "      <td>0.766689</td>\n",
       "      <td>0.839444</td>\n",
       "      <td>0.109853</td>\n",
       "      <td>unstable</td>\n",
       "    </tr>\n",
       "    <tr>\n",
       "      <td>3</td>\n",
       "      <td>0.716415</td>\n",
       "      <td>7.669600</td>\n",
       "      <td>4.486641</td>\n",
       "      <td>2.340563</td>\n",
       "      <td>3.963791</td>\n",
       "      <td>-1.027473</td>\n",
       "      <td>-1.938944</td>\n",
       "      <td>-0.997374</td>\n",
       "      <td>0.446209</td>\n",
       "      <td>0.976744</td>\n",
       "      <td>0.929381</td>\n",
       "      <td>0.362718</td>\n",
       "      <td>unstable</td>\n",
       "    </tr>\n",
       "    <tr>\n",
       "      <td>4</td>\n",
       "      <td>3.134112</td>\n",
       "      <td>7.608772</td>\n",
       "      <td>4.943759</td>\n",
       "      <td>9.857573</td>\n",
       "      <td>3.525811</td>\n",
       "      <td>-1.125531</td>\n",
       "      <td>-1.845975</td>\n",
       "      <td>-0.554305</td>\n",
       "      <td>0.797110</td>\n",
       "      <td>0.455450</td>\n",
       "      <td>0.656947</td>\n",
       "      <td>0.820923</td>\n",
       "      <td>unstable</td>\n",
       "    </tr>\n",
       "  </tbody>\n",
       "</table>\n",
       "</div>"
      ],
      "text/plain": [
       "       tau1      tau2      tau3      tau4        p1        p2        p3  \\\n",
       "0  2.959060  3.079885  8.381025  9.780754  3.763085 -0.782604 -1.257395   \n",
       "1  9.304097  4.902524  3.047541  1.369357  5.067812 -1.940058 -1.872742   \n",
       "2  8.971707  8.848428  3.046479  1.214518  3.405158 -1.207456 -1.277210   \n",
       "3  0.716415  7.669600  4.486641  2.340563  3.963791 -1.027473 -1.938944   \n",
       "4  3.134112  7.608772  4.943759  9.857573  3.525811 -1.125531 -1.845975   \n",
       "\n",
       "         p4        g1        g2        g3        g4     stabf  \n",
       "0 -1.723086  0.650456  0.859578  0.887445  0.958034  unstable  \n",
       "1 -1.255012  0.413441  0.862414  0.562139  0.781760    stable  \n",
       "2 -0.920492  0.163041  0.766689  0.839444  0.109853  unstable  \n",
       "3 -0.997374  0.446209  0.976744  0.929381  0.362718  unstable  \n",
       "4 -0.554305  0.797110  0.455450  0.656947  0.820923  unstable  "
      ]
     },
     "execution_count": 7,
     "metadata": {},
     "output_type": "execute_result"
    }
   ],
   "source": [
    "EGS_data.head()"
   ]
  },
  {
   "cell_type": "code",
   "execution_count": 8,
   "metadata": {},
   "outputs": [
    {
     "data": {
      "text/plain": [
       "unstable    6380\n",
       "stable      3620\n",
       "Name: stabf, dtype: int64"
      ]
     },
     "execution_count": 8,
     "metadata": {},
     "output_type": "execute_result"
    }
   ],
   "source": [
    "# Counting the categorical variables\n",
    "EGS_data['stabf'].value_counts()"
   ]
  },
  {
   "cell_type": "markdown",
   "metadata": {},
   "source": [
    "### Dropping The Categorical Class Variable"
   ]
  },
  {
   "cell_type": "code",
   "execution_count": 9,
   "metadata": {},
   "outputs": [],
   "source": [
    "X = EGS_data.drop(columns= 'stabf' ) \n",
    "y = EGS_data['stabf']"
   ]
  },
  {
   "cell_type": "markdown",
   "metadata": {},
   "source": [
    "### Spliting The Dataset into Train/Test Sets"
   ]
  },
  {
   "cell_type": "code",
   "execution_count": 10,
   "metadata": {},
   "outputs": [],
   "source": [
    "#Importing the training and testing spliting libraries\n",
    "from sklearn.model_selection import train_test_split"
   ]
  },
  {
   "cell_type": "markdown",
   "metadata": {},
   "source": [
    "We will split our dataset (Features (X) and Outcome/Label (Y)) into training and test data by using train_test_split() function from sklearn. The training set will be 80% while the test set will be 20%. The random_state that is set to 1 is for all of us to have the same set of data."
   ]
  },
  {
   "cell_type": "code",
   "execution_count": 11,
   "metadata": {},
   "outputs": [],
   "source": [
    "#Spliting the dataset into train and test set\n",
    "X_train, X_test, y_train, y_test = train_test_split(X, y, test_size=0.2, random_state=1)"
   ]
  },
  {
   "cell_type": "code",
   "execution_count": 12,
   "metadata": {},
   "outputs": [
    {
     "data": {
      "text/html": [
       "<div>\n",
       "<style scoped>\n",
       "    .dataframe tbody tr th:only-of-type {\n",
       "        vertical-align: middle;\n",
       "    }\n",
       "\n",
       "    .dataframe tbody tr th {\n",
       "        vertical-align: top;\n",
       "    }\n",
       "\n",
       "    .dataframe thead th {\n",
       "        text-align: right;\n",
       "    }\n",
       "</style>\n",
       "<table border=\"1\" class=\"dataframe\">\n",
       "  <thead>\n",
       "    <tr style=\"text-align: right;\">\n",
       "      <th></th>\n",
       "      <th>tau1</th>\n",
       "      <th>tau2</th>\n",
       "      <th>tau3</th>\n",
       "      <th>tau4</th>\n",
       "      <th>p1</th>\n",
       "      <th>p2</th>\n",
       "      <th>p3</th>\n",
       "      <th>p4</th>\n",
       "      <th>g1</th>\n",
       "      <th>g2</th>\n",
       "      <th>g3</th>\n",
       "      <th>g4</th>\n",
       "    </tr>\n",
       "  </thead>\n",
       "  <tbody>\n",
       "    <tr>\n",
       "      <td>2694</td>\n",
       "      <td>6.255995</td>\n",
       "      <td>2.542401</td>\n",
       "      <td>7.024714</td>\n",
       "      <td>9.476518</td>\n",
       "      <td>3.529888</td>\n",
       "      <td>-1.224881</td>\n",
       "      <td>-0.688228</td>\n",
       "      <td>-1.616780</td>\n",
       "      <td>0.568221</td>\n",
       "      <td>0.618403</td>\n",
       "      <td>0.685739</td>\n",
       "      <td>0.660088</td>\n",
       "    </tr>\n",
       "    <tr>\n",
       "      <td>5140</td>\n",
       "      <td>5.070581</td>\n",
       "      <td>5.490253</td>\n",
       "      <td>8.075688</td>\n",
       "      <td>0.761075</td>\n",
       "      <td>4.220888</td>\n",
       "      <td>-1.280596</td>\n",
       "      <td>-1.902185</td>\n",
       "      <td>-1.038107</td>\n",
       "      <td>0.443515</td>\n",
       "      <td>0.097244</td>\n",
       "      <td>0.916955</td>\n",
       "      <td>0.129254</td>\n",
       "    </tr>\n",
       "    <tr>\n",
       "      <td>2568</td>\n",
       "      <td>1.220072</td>\n",
       "      <td>8.804028</td>\n",
       "      <td>3.874283</td>\n",
       "      <td>8.433949</td>\n",
       "      <td>3.614027</td>\n",
       "      <td>-1.039236</td>\n",
       "      <td>-0.953566</td>\n",
       "      <td>-1.621224</td>\n",
       "      <td>0.908353</td>\n",
       "      <td>0.923594</td>\n",
       "      <td>0.238881</td>\n",
       "      <td>0.660156</td>\n",
       "    </tr>\n",
       "    <tr>\n",
       "      <td>3671</td>\n",
       "      <td>7.498402</td>\n",
       "      <td>6.697603</td>\n",
       "      <td>8.798626</td>\n",
       "      <td>2.126236</td>\n",
       "      <td>3.134585</td>\n",
       "      <td>-1.581906</td>\n",
       "      <td>-0.589386</td>\n",
       "      <td>-0.963293</td>\n",
       "      <td>0.260826</td>\n",
       "      <td>0.899003</td>\n",
       "      <td>0.964752</td>\n",
       "      <td>0.600598</td>\n",
       "    </tr>\n",
       "    <tr>\n",
       "      <td>7427</td>\n",
       "      <td>7.074006</td>\n",
       "      <td>1.337511</td>\n",
       "      <td>6.100756</td>\n",
       "      <td>7.759156</td>\n",
       "      <td>2.526922</td>\n",
       "      <td>-0.922540</td>\n",
       "      <td>-0.632600</td>\n",
       "      <td>-0.971782</td>\n",
       "      <td>0.984580</td>\n",
       "      <td>0.716082</td>\n",
       "      <td>0.836928</td>\n",
       "      <td>0.165162</td>\n",
       "    </tr>\n",
       "  </tbody>\n",
       "</table>\n",
       "</div>"
      ],
      "text/plain": [
       "          tau1      tau2      tau3      tau4        p1        p2        p3  \\\n",
       "2694  6.255995  2.542401  7.024714  9.476518  3.529888 -1.224881 -0.688228   \n",
       "5140  5.070581  5.490253  8.075688  0.761075  4.220888 -1.280596 -1.902185   \n",
       "2568  1.220072  8.804028  3.874283  8.433949  3.614027 -1.039236 -0.953566   \n",
       "3671  7.498402  6.697603  8.798626  2.126236  3.134585 -1.581906 -0.589386   \n",
       "7427  7.074006  1.337511  6.100756  7.759156  2.526922 -0.922540 -0.632600   \n",
       "\n",
       "            p4        g1        g2        g3        g4  \n",
       "2694 -1.616780  0.568221  0.618403  0.685739  0.660088  \n",
       "5140 -1.038107  0.443515  0.097244  0.916955  0.129254  \n",
       "2568 -1.621224  0.908353  0.923594  0.238881  0.660156  \n",
       "3671 -0.963293  0.260826  0.899003  0.964752  0.600598  \n",
       "7427 -0.971782  0.984580  0.716082  0.836928  0.165162  "
      ]
     },
     "execution_count": 12,
     "metadata": {},
     "output_type": "execute_result"
    }
   ],
   "source": [
    "X_train.head()"
   ]
  },
  {
   "cell_type": "code",
   "execution_count": 13,
   "metadata": {},
   "outputs": [
    {
     "data": {
      "text/plain": [
       "unstable    5092\n",
       "stable      2908\n",
       "Name: stabf, dtype: int64"
      ]
     },
     "execution_count": 13,
     "metadata": {},
     "output_type": "execute_result"
    }
   ],
   "source": [
    "y_train.value_counts()"
   ]
  },
  {
   "cell_type": "code",
   "execution_count": 14,
   "metadata": {},
   "outputs": [
    {
     "data": {
      "text/html": [
       "<div>\n",
       "<style scoped>\n",
       "    .dataframe tbody tr th:only-of-type {\n",
       "        vertical-align: middle;\n",
       "    }\n",
       "\n",
       "    .dataframe tbody tr th {\n",
       "        vertical-align: top;\n",
       "    }\n",
       "\n",
       "    .dataframe thead th {\n",
       "        text-align: right;\n",
       "    }\n",
       "</style>\n",
       "<table border=\"1\" class=\"dataframe\">\n",
       "  <thead>\n",
       "    <tr style=\"text-align: right;\">\n",
       "      <th></th>\n",
       "      <th>tau1</th>\n",
       "      <th>tau2</th>\n",
       "      <th>tau3</th>\n",
       "      <th>tau4</th>\n",
       "      <th>p1</th>\n",
       "      <th>p2</th>\n",
       "      <th>p3</th>\n",
       "      <th>p4</th>\n",
       "      <th>g1</th>\n",
       "      <th>g2</th>\n",
       "      <th>g3</th>\n",
       "      <th>g4</th>\n",
       "    </tr>\n",
       "  </thead>\n",
       "  <tbody>\n",
       "    <tr>\n",
       "      <td>2694</td>\n",
       "      <td>6.255995</td>\n",
       "      <td>2.542401</td>\n",
       "      <td>7.024714</td>\n",
       "      <td>9.476518</td>\n",
       "      <td>3.529888</td>\n",
       "      <td>-1.224881</td>\n",
       "      <td>-0.688228</td>\n",
       "      <td>-1.616780</td>\n",
       "      <td>0.568221</td>\n",
       "      <td>0.618403</td>\n",
       "      <td>0.685739</td>\n",
       "      <td>0.660088</td>\n",
       "    </tr>\n",
       "    <tr>\n",
       "      <td>5140</td>\n",
       "      <td>5.070581</td>\n",
       "      <td>5.490253</td>\n",
       "      <td>8.075688</td>\n",
       "      <td>0.761075</td>\n",
       "      <td>4.220888</td>\n",
       "      <td>-1.280596</td>\n",
       "      <td>-1.902185</td>\n",
       "      <td>-1.038107</td>\n",
       "      <td>0.443515</td>\n",
       "      <td>0.097244</td>\n",
       "      <td>0.916955</td>\n",
       "      <td>0.129254</td>\n",
       "    </tr>\n",
       "    <tr>\n",
       "      <td>2568</td>\n",
       "      <td>1.220072</td>\n",
       "      <td>8.804028</td>\n",
       "      <td>3.874283</td>\n",
       "      <td>8.433949</td>\n",
       "      <td>3.614027</td>\n",
       "      <td>-1.039236</td>\n",
       "      <td>-0.953566</td>\n",
       "      <td>-1.621224</td>\n",
       "      <td>0.908353</td>\n",
       "      <td>0.923594</td>\n",
       "      <td>0.238881</td>\n",
       "      <td>0.660156</td>\n",
       "    </tr>\n",
       "    <tr>\n",
       "      <td>3671</td>\n",
       "      <td>7.498402</td>\n",
       "      <td>6.697603</td>\n",
       "      <td>8.798626</td>\n",
       "      <td>2.126236</td>\n",
       "      <td>3.134585</td>\n",
       "      <td>-1.581906</td>\n",
       "      <td>-0.589386</td>\n",
       "      <td>-0.963293</td>\n",
       "      <td>0.260826</td>\n",
       "      <td>0.899003</td>\n",
       "      <td>0.964752</td>\n",
       "      <td>0.600598</td>\n",
       "    </tr>\n",
       "    <tr>\n",
       "      <td>7427</td>\n",
       "      <td>7.074006</td>\n",
       "      <td>1.337511</td>\n",
       "      <td>6.100756</td>\n",
       "      <td>7.759156</td>\n",
       "      <td>2.526922</td>\n",
       "      <td>-0.922540</td>\n",
       "      <td>-0.632600</td>\n",
       "      <td>-0.971782</td>\n",
       "      <td>0.984580</td>\n",
       "      <td>0.716082</td>\n",
       "      <td>0.836928</td>\n",
       "      <td>0.165162</td>\n",
       "    </tr>\n",
       "  </tbody>\n",
       "</table>\n",
       "</div>"
      ],
      "text/plain": [
       "          tau1      tau2      tau3      tau4        p1        p2        p3  \\\n",
       "2694  6.255995  2.542401  7.024714  9.476518  3.529888 -1.224881 -0.688228   \n",
       "5140  5.070581  5.490253  8.075688  0.761075  4.220888 -1.280596 -1.902185   \n",
       "2568  1.220072  8.804028  3.874283  8.433949  3.614027 -1.039236 -0.953566   \n",
       "3671  7.498402  6.697603  8.798626  2.126236  3.134585 -1.581906 -0.589386   \n",
       "7427  7.074006  1.337511  6.100756  7.759156  2.526922 -0.922540 -0.632600   \n",
       "\n",
       "            p4        g1        g2        g3        g4  \n",
       "2694 -1.616780  0.568221  0.618403  0.685739  0.660088  \n",
       "5140 -1.038107  0.443515  0.097244  0.916955  0.129254  \n",
       "2568 -1.621224  0.908353  0.923594  0.238881  0.660156  \n",
       "3671 -0.963293  0.260826  0.899003  0.964752  0.600598  \n",
       "7427 -0.971782  0.984580  0.716082  0.836928  0.165162  "
      ]
     },
     "execution_count": 14,
     "metadata": {},
     "output_type": "execute_result"
    }
   ],
   "source": [
    "X_train.head()"
   ]
  },
  {
   "cell_type": "markdown",
   "metadata": {},
   "source": [
    "### Trying to solve the imbalance in the Data set"
   ]
  },
  {
   "cell_type": "code",
   "execution_count": 15,
   "metadata": {},
   "outputs": [],
   "source": [
    "import imblearn \n",
    "from imblearn.over_sampling import SMOTE \n",
    "smote = SMOTE(random_state= 1 ) \n",
    "X_train_balanced, y_train_balanced = smote.fit_sample(X_train, y_train) "
   ]
  },
  {
   "cell_type": "code",
   "execution_count": 16,
   "metadata": {},
   "outputs": [
    {
     "data": {
      "text/plain": [
       "(10184, 12)"
      ]
     },
     "execution_count": 16,
     "metadata": {},
     "output_type": "execute_result"
    }
   ],
   "source": [
    "X_train_balanced.shape"
   ]
  },
  {
   "cell_type": "code",
   "execution_count": 17,
   "metadata": {},
   "outputs": [
    {
     "data": {
      "text/plain": [
       "(10184,)"
      ]
     },
     "execution_count": 17,
     "metadata": {},
     "output_type": "execute_result"
    }
   ],
   "source": [
    "y_train_balanced.shape"
   ]
  },
  {
   "cell_type": "code",
   "execution_count": 18,
   "metadata": {},
   "outputs": [
    {
     "data": {
      "text/html": [
       "<div>\n",
       "<style scoped>\n",
       "    .dataframe tbody tr th:only-of-type {\n",
       "        vertical-align: middle;\n",
       "    }\n",
       "\n",
       "    .dataframe tbody tr th {\n",
       "        vertical-align: top;\n",
       "    }\n",
       "\n",
       "    .dataframe thead th {\n",
       "        text-align: right;\n",
       "    }\n",
       "</style>\n",
       "<table border=\"1\" class=\"dataframe\">\n",
       "  <thead>\n",
       "    <tr style=\"text-align: right;\">\n",
       "      <th></th>\n",
       "      <th>tau1</th>\n",
       "      <th>tau2</th>\n",
       "      <th>tau3</th>\n",
       "      <th>tau4</th>\n",
       "      <th>p1</th>\n",
       "      <th>p2</th>\n",
       "      <th>p3</th>\n",
       "      <th>p4</th>\n",
       "      <th>g1</th>\n",
       "      <th>g2</th>\n",
       "      <th>g3</th>\n",
       "      <th>g4</th>\n",
       "    </tr>\n",
       "  </thead>\n",
       "  <tbody>\n",
       "    <tr>\n",
       "      <td>9953</td>\n",
       "      <td>6.877876</td>\n",
       "      <td>4.113820</td>\n",
       "      <td>9.356768</td>\n",
       "      <td>8.299753</td>\n",
       "      <td>4.056779</td>\n",
       "      <td>-1.897470</td>\n",
       "      <td>-1.590581</td>\n",
       "      <td>-0.568728</td>\n",
       "      <td>0.276567</td>\n",
       "      <td>0.845536</td>\n",
       "      <td>0.112440</td>\n",
       "      <td>0.822562</td>\n",
       "    </tr>\n",
       "    <tr>\n",
       "      <td>3850</td>\n",
       "      <td>5.802841</td>\n",
       "      <td>6.271371</td>\n",
       "      <td>4.731540</td>\n",
       "      <td>3.819867</td>\n",
       "      <td>3.579569</td>\n",
       "      <td>-1.709480</td>\n",
       "      <td>-1.067511</td>\n",
       "      <td>-0.802579</td>\n",
       "      <td>0.077527</td>\n",
       "      <td>0.416478</td>\n",
       "      <td>0.912846</td>\n",
       "      <td>0.861306</td>\n",
       "    </tr>\n",
       "    <tr>\n",
       "      <td>4962</td>\n",
       "      <td>2.286998</td>\n",
       "      <td>4.385142</td>\n",
       "      <td>2.830232</td>\n",
       "      <td>5.293880</td>\n",
       "      <td>3.035814</td>\n",
       "      <td>-1.202764</td>\n",
       "      <td>-0.902011</td>\n",
       "      <td>-0.931039</td>\n",
       "      <td>0.924216</td>\n",
       "      <td>0.130186</td>\n",
       "      <td>0.703887</td>\n",
       "      <td>0.063811</td>\n",
       "    </tr>\n",
       "    <tr>\n",
       "      <td>3886</td>\n",
       "      <td>5.019920</td>\n",
       "      <td>2.209962</td>\n",
       "      <td>6.266080</td>\n",
       "      <td>0.578901</td>\n",
       "      <td>4.322584</td>\n",
       "      <td>-1.960207</td>\n",
       "      <td>-1.074561</td>\n",
       "      <td>-1.287815</td>\n",
       "      <td>0.546910</td>\n",
       "      <td>0.065992</td>\n",
       "      <td>0.427349</td>\n",
       "      <td>0.814648</td>\n",
       "    </tr>\n",
       "    <tr>\n",
       "      <td>5437</td>\n",
       "      <td>7.646145</td>\n",
       "      <td>9.187896</td>\n",
       "      <td>5.484219</td>\n",
       "      <td>9.934313</td>\n",
       "      <td>3.634226</td>\n",
       "      <td>-1.254541</td>\n",
       "      <td>-1.335366</td>\n",
       "      <td>-1.044319</td>\n",
       "      <td>0.561528</td>\n",
       "      <td>0.121611</td>\n",
       "      <td>0.787318</td>\n",
       "      <td>0.300314</td>\n",
       "    </tr>\n",
       "  </tbody>\n",
       "</table>\n",
       "</div>"
      ],
      "text/plain": [
       "          tau1      tau2      tau3      tau4        p1        p2        p3  \\\n",
       "9953  6.877876  4.113820  9.356768  8.299753  4.056779 -1.897470 -1.590581   \n",
       "3850  5.802841  6.271371  4.731540  3.819867  3.579569 -1.709480 -1.067511   \n",
       "4962  2.286998  4.385142  2.830232  5.293880  3.035814 -1.202764 -0.902011   \n",
       "3886  5.019920  2.209962  6.266080  0.578901  4.322584 -1.960207 -1.074561   \n",
       "5437  7.646145  9.187896  5.484219  9.934313  3.634226 -1.254541 -1.335366   \n",
       "\n",
       "            p4        g1        g2        g3        g4  \n",
       "9953 -0.568728  0.276567  0.845536  0.112440  0.822562  \n",
       "3850 -0.802579  0.077527  0.416478  0.912846  0.861306  \n",
       "4962 -0.931039  0.924216  0.130186  0.703887  0.063811  \n",
       "3886 -1.287815  0.546910  0.065992  0.427349  0.814648  \n",
       "5437 -1.044319  0.561528  0.121611  0.787318  0.300314  "
      ]
     },
     "execution_count": 18,
     "metadata": {},
     "output_type": "execute_result"
    }
   ],
   "source": [
    "X_test.head()"
   ]
  },
  {
   "cell_type": "markdown",
   "metadata": {},
   "source": [
    "### Standard Scaling the Dataset"
   ]
  },
  {
   "cell_type": "code",
   "execution_count": 19,
   "metadata": {},
   "outputs": [],
   "source": [
    "from sklearn.preprocessing import MinMaxScaler # For normalizing our dataset to common scale\n",
    "scaler = MinMaxScaler()\n",
    "normalised_train_df = scaler.fit_transform(X_train_balanced) \n",
    "normalised_train_df = pd.DataFrame(normalised_train_df, columns=X_train.columns) \n"
   ]
  },
  {
   "cell_type": "code",
   "execution_count": 20,
   "metadata": {},
   "outputs": [
    {
     "data": {
      "text/html": [
       "<div>\n",
       "<style scoped>\n",
       "    .dataframe tbody tr th:only-of-type {\n",
       "        vertical-align: middle;\n",
       "    }\n",
       "\n",
       "    .dataframe tbody tr th {\n",
       "        vertical-align: top;\n",
       "    }\n",
       "\n",
       "    .dataframe thead th {\n",
       "        text-align: right;\n",
       "    }\n",
       "</style>\n",
       "<table border=\"1\" class=\"dataframe\">\n",
       "  <thead>\n",
       "    <tr style=\"text-align: right;\">\n",
       "      <th></th>\n",
       "      <th>tau1</th>\n",
       "      <th>tau2</th>\n",
       "      <th>tau3</th>\n",
       "      <th>tau4</th>\n",
       "      <th>p1</th>\n",
       "      <th>p2</th>\n",
       "      <th>p3</th>\n",
       "      <th>p4</th>\n",
       "      <th>g1</th>\n",
       "      <th>g2</th>\n",
       "      <th>g3</th>\n",
       "      <th>g4</th>\n",
       "    </tr>\n",
       "  </thead>\n",
       "  <tbody>\n",
       "    <tr>\n",
       "      <td>0</td>\n",
       "      <td>0.671365</td>\n",
       "      <td>0.380367</td>\n",
       "      <td>0.932340</td>\n",
       "      <td>0.821112</td>\n",
       "      <td>0.577835</td>\n",
       "      <td>0.068198</td>\n",
       "      <td>0.272932</td>\n",
       "      <td>0.954195</td>\n",
       "      <td>0.238500</td>\n",
       "      <td>0.837447</td>\n",
       "      <td>0.065691</td>\n",
       "      <td>0.813278</td>\n",
       "    </tr>\n",
       "    <tr>\n",
       "      <td>1</td>\n",
       "      <td>0.558188</td>\n",
       "      <td>0.607557</td>\n",
       "      <td>0.445405</td>\n",
       "      <td>0.349467</td>\n",
       "      <td>0.466385</td>\n",
       "      <td>0.193555</td>\n",
       "      <td>0.621676</td>\n",
       "      <td>0.798284</td>\n",
       "      <td>0.028968</td>\n",
       "      <td>0.385755</td>\n",
       "      <td>0.908498</td>\n",
       "      <td>0.854065</td>\n",
       "    </tr>\n",
       "    <tr>\n",
       "      <td>2</td>\n",
       "      <td>0.188048</td>\n",
       "      <td>0.408938</td>\n",
       "      <td>0.245239</td>\n",
       "      <td>0.504652</td>\n",
       "      <td>0.339393</td>\n",
       "      <td>0.531448</td>\n",
       "      <td>0.732018</td>\n",
       "      <td>0.712638</td>\n",
       "      <td>0.920287</td>\n",
       "      <td>0.084360</td>\n",
       "      <td>0.688470</td>\n",
       "      <td>0.014509</td>\n",
       "    </tr>\n",
       "    <tr>\n",
       "      <td>3</td>\n",
       "      <td>0.475764</td>\n",
       "      <td>0.179892</td>\n",
       "      <td>0.606958</td>\n",
       "      <td>0.008257</td>\n",
       "      <td>0.639912</td>\n",
       "      <td>0.026362</td>\n",
       "      <td>0.616975</td>\n",
       "      <td>0.474772</td>\n",
       "      <td>0.523093</td>\n",
       "      <td>0.016780</td>\n",
       "      <td>0.397283</td>\n",
       "      <td>0.804946</td>\n",
       "    </tr>\n",
       "    <tr>\n",
       "      <td>4</td>\n",
       "      <td>0.752247</td>\n",
       "      <td>0.914666</td>\n",
       "      <td>0.524646</td>\n",
       "      <td>0.993199</td>\n",
       "      <td>0.479150</td>\n",
       "      <td>0.496922</td>\n",
       "      <td>0.443090</td>\n",
       "      <td>0.637113</td>\n",
       "      <td>0.538482</td>\n",
       "      <td>0.075332</td>\n",
       "      <td>0.776320</td>\n",
       "      <td>0.263485</td>\n",
       "    </tr>\n",
       "  </tbody>\n",
       "</table>\n",
       "</div>"
      ],
      "text/plain": [
       "       tau1      tau2      tau3      tau4        p1        p2        p3  \\\n",
       "0  0.671365  0.380367  0.932340  0.821112  0.577835  0.068198  0.272932   \n",
       "1  0.558188  0.607557  0.445405  0.349467  0.466385  0.193555  0.621676   \n",
       "2  0.188048  0.408938  0.245239  0.504652  0.339393  0.531448  0.732018   \n",
       "3  0.475764  0.179892  0.606958  0.008257  0.639912  0.026362  0.616975   \n",
       "4  0.752247  0.914666  0.524646  0.993199  0.479150  0.496922  0.443090   \n",
       "\n",
       "         p4        g1        g2        g3        g4  \n",
       "0  0.954195  0.238500  0.837447  0.065691  0.813278  \n",
       "1  0.798284  0.028968  0.385755  0.908498  0.854065  \n",
       "2  0.712638  0.920287  0.084360  0.688470  0.014509  \n",
       "3  0.474772  0.523093  0.016780  0.397283  0.804946  \n",
       "4  0.637113  0.538482  0.075332  0.776320  0.263485  "
      ]
     },
     "execution_count": 20,
     "metadata": {},
     "output_type": "execute_result"
    }
   ],
   "source": [
    "X_test = X_test.reset_index(drop= True ) \n",
    "normalised_test_df = scaler.transform(X_test) \n",
    "normalised_test_df = pd.DataFrame(normalised_test_df, columns= X_test.columns) \n",
    "normalised_test_df.head() "
   ]
  },
  {
   "cell_type": "markdown",
   "metadata": {},
   "source": [
    "### Decision Tree Classifier Model"
   ]
  },
  {
   "cell_type": "code",
   "execution_count": 21,
   "metadata": {},
   "outputs": [],
   "source": [
    "from sklearn.tree import DecisionTreeClassifier"
   ]
  },
  {
   "cell_type": "code",
   "execution_count": 22,
   "metadata": {},
   "outputs": [
    {
     "data": {
      "text/plain": [
       "DecisionTreeClassifier(class_weight=None, criterion='gini', max_depth=None,\n",
       "            max_features=None, max_leaf_nodes=None,\n",
       "            min_impurity_decrease=0.0, min_impurity_split=None,\n",
       "            min_samples_leaf=1, min_samples_split=2,\n",
       "            min_weight_fraction_leaf=0.0, presort=False, random_state=1,\n",
       "            splitter='best')"
      ]
     },
     "execution_count": 22,
     "metadata": {},
     "output_type": "execute_result"
    }
   ],
   "source": [
    "dtree = DecisionTreeClassifier(random_state=1)\n",
    "dtree.fit(normalised_train_df, y_train_balanced)"
   ]
  },
  {
   "cell_type": "markdown",
   "metadata": {},
   "source": [
    "### Prediction And Model Evaluation"
   ]
  },
  {
   "cell_type": "code",
   "execution_count": 23,
   "metadata": {},
   "outputs": [],
   "source": [
    "ydt_pred = dtree.predict(normalised_test_df)"
   ]
  },
  {
   "cell_type": "code",
   "execution_count": 24,
   "metadata": {},
   "outputs": [],
   "source": [
    "from sklearn.metrics import classification_report, confusion_matrix, recall_score, accuracy_score, precision_score, f1_score"
   ]
  },
  {
   "cell_type": "code",
   "execution_count": 25,
   "metadata": {},
   "outputs": [
    {
     "name": "stdout",
     "output_type": "stream",
     "text": [
      "Confusion Matrix: \n",
      "[[ 579  133]\n",
      " [ 160 1128]]\n",
      "\n",
      "\n",
      "Classification Report: \n",
      "             precision    recall  f1-score   support\n",
      "\n",
      "     stable       0.78      0.81      0.80       712\n",
      "   unstable       0.89      0.88      0.89      1288\n",
      "\n",
      "avg / total       0.85      0.85      0.85      2000\n",
      "\n"
     ]
    }
   ],
   "source": [
    "print('Confusion Matrix: \\n{}'.format(confusion_matrix(y_test, ydt_pred)))\n",
    "print('\\n')\n",
    "print('Classification Report: \\n{}'.format(classification_report(y_test, ydt_pred)))"
   ]
  },
  {
   "cell_type": "markdown",
   "metadata": {},
   "source": [
    "### Accuracy"
   ]
  },
  {
   "cell_type": "code",
   "execution_count": 26,
   "metadata": {},
   "outputs": [
    {
     "name": "stdout",
     "output_type": "stream",
     "text": [
      "Accuracy: 85.0\n"
     ]
    }
   ],
   "source": [
    "accuracy = accuracy_score(y_test, ydt_pred) \n",
    "print( 'Accuracy: {}' .format(round(accuracy* 100 ), 2 ))"
   ]
  },
  {
   "cell_type": "markdown",
   "metadata": {},
   "source": [
    "### Precision"
   ]
  },
  {
   "cell_type": "code",
   "execution_count": 27,
   "metadata": {},
   "outputs": [
    {
     "name": "stdout",
     "output_type": "stream",
     "text": [
      "Precision: 89.0\n"
     ]
    }
   ],
   "source": [
    "precision = precision_score(y_test, ydt_pred, pos_label= 'unstable') \n",
    "print( 'Precision: {}' .format(round(precision* 100 ), 2 ))"
   ]
  },
  {
   "cell_type": "markdown",
   "metadata": {},
   "source": [
    "### Recall"
   ]
  },
  {
   "cell_type": "code",
   "execution_count": 28,
   "metadata": {},
   "outputs": [
    {
     "name": "stdout",
     "output_type": "stream",
     "text": [
      "Recall: 88.0\n"
     ]
    }
   ],
   "source": [
    "recall = recall_score(y_test, ydt_pred,pos_label= 'unstable') \n",
    "print( 'Recall: {}' .format(round(recall* 100 ), 2 ))"
   ]
  },
  {
   "cell_type": "markdown",
   "metadata": {},
   "source": [
    "### F1-Score"
   ]
  },
  {
   "cell_type": "code",
   "execution_count": 29,
   "metadata": {},
   "outputs": [
    {
     "name": "stdout",
     "output_type": "stream",
     "text": [
      "F1_score: 89.0\n"
     ]
    }
   ],
   "source": [
    "f1 = f1_score(y_test, ydt_pred, pos_label= 'unstable') \n",
    "print( 'F1_score: {}' .format(round(f1* 100 ), 2 ))"
   ]
  },
  {
   "cell_type": "markdown",
   "metadata": {},
   "source": [
    "## Building Random Forest Model"
   ]
  },
  {
   "cell_type": "code",
   "execution_count": 30,
   "metadata": {},
   "outputs": [
    {
     "name": "stderr",
     "output_type": "stream",
     "text": [
      "C:\\Users\\user\\Anaconda3\\lib\\site-packages\\sklearn\\ensemble\\weight_boosting.py:29: DeprecationWarning: numpy.core.umath_tests is an internal NumPy module and should not be imported. It will be removed in a future NumPy release.\n",
      "  from numpy.core.umath_tests import inner1d\n"
     ]
    }
   ],
   "source": [
    "from sklearn.ensemble import RandomForestClassifier, ExtraTreesClassifier"
   ]
  },
  {
   "cell_type": "code",
   "execution_count": 31,
   "metadata": {},
   "outputs": [],
   "source": [
    "rfc =RandomForestClassifier(random_state=1)"
   ]
  },
  {
   "cell_type": "code",
   "execution_count": 32,
   "metadata": {},
   "outputs": [
    {
     "data": {
      "text/plain": [
       "RandomForestClassifier(bootstrap=True, class_weight=None, criterion='gini',\n",
       "            max_depth=None, max_features='auto', max_leaf_nodes=None,\n",
       "            min_impurity_decrease=0.0, min_impurity_split=None,\n",
       "            min_samples_leaf=1, min_samples_split=2,\n",
       "            min_weight_fraction_leaf=0.0, n_estimators=10, n_jobs=1,\n",
       "            oob_score=False, random_state=1, verbose=0, warm_start=False)"
      ]
     },
     "execution_count": 32,
     "metadata": {},
     "output_type": "execute_result"
    }
   ],
   "source": [
    "rfc.fit(normalised_train_df,y_train_balanced)"
   ]
  },
  {
   "cell_type": "markdown",
   "metadata": {},
   "source": [
    "### Prediction And Model Evaluation"
   ]
  },
  {
   "cell_type": "code",
   "execution_count": 33,
   "metadata": {},
   "outputs": [],
   "source": [
    "rfc_pred =rfc.predict(normalised_test_df)"
   ]
  },
  {
   "cell_type": "code",
   "execution_count": 34,
   "metadata": {
    "scrolled": true
   },
   "outputs": [
    {
     "name": "stdout",
     "output_type": "stream",
     "text": [
      "Confusion Matrix: \n",
      "[[ 646   66]\n",
      " [ 174 1114]]\n",
      "\n",
      "\n",
      "Classification Report: \n",
      "             precision    recall  f1-score   support\n",
      "\n",
      "     stable       0.79      0.91      0.84       712\n",
      "   unstable       0.94      0.86      0.90      1288\n",
      "\n",
      "avg / total       0.89      0.88      0.88      2000\n",
      "\n"
     ]
    }
   ],
   "source": [
    "print('Confusion Matrix: \\n{}'.format(confusion_matrix(y_test, rfc_pred)))\n",
    "print('\\n')\n",
    "print('Classification Report: \\n{}'.format(classification_report(y_test, rfc_pred)))"
   ]
  },
  {
   "cell_type": "markdown",
   "metadata": {},
   "source": [
    "### Accuracy RFC"
   ]
  },
  {
   "cell_type": "code",
   "execution_count": 37,
   "metadata": {},
   "outputs": [
    {
     "name": "stdout",
     "output_type": "stream",
     "text": [
      "Accuracy: 88.0\n"
     ]
    },
    {
     "data": {
      "text/plain": [
       "0.88"
      ]
     },
     "execution_count": 37,
     "metadata": {},
     "output_type": "execute_result"
    }
   ],
   "source": [
    "accuracy = accuracy_score(y_test, rfc_pred) \n",
    "print( 'Accuracy: {}' .format(round(accuracy* 100 ), 4 ))\n",
    "accuracy"
   ]
  },
  {
   "cell_type": "markdown",
   "metadata": {},
   "source": [
    "### Precision RFC"
   ]
  },
  {
   "cell_type": "code",
   "execution_count": 36,
   "metadata": {},
   "outputs": [
    {
     "name": "stdout",
     "output_type": "stream",
     "text": [
      "Precision: 94.0\n"
     ]
    }
   ],
   "source": [
    "precision = precision_score(y_test, rfc_pred,pos_label= 'unstable') \n",
    "print( 'Precision: {}' .format(round(precision* 100 ), 2 ))"
   ]
  },
  {
   "cell_type": "markdown",
   "metadata": {},
   "source": [
    "### Recall RFC"
   ]
  },
  {
   "cell_type": "code",
   "execution_count": 38,
   "metadata": {},
   "outputs": [
    {
     "name": "stdout",
     "output_type": "stream",
     "text": [
      "Recall: 86.0\n"
     ]
    }
   ],
   "source": [
    "recall = recall_score(y_test, rfc_pred,pos_label= 'unstable') \n",
    "print( 'Recall: {}' .format(round(recall* 100 ), 2 ))"
   ]
  },
  {
   "cell_type": "markdown",
   "metadata": {},
   "source": [
    "### F1_Score RFC"
   ]
  },
  {
   "cell_type": "code",
   "execution_count": 39,
   "metadata": {},
   "outputs": [
    {
     "name": "stdout",
     "output_type": "stream",
     "text": [
      "F1_score: 90.0\n"
     ]
    }
   ],
   "source": [
    "f1 = f1_score(y_test, rfc_pred,pos_label= 'unstable') \n",
    "print( 'F1_score: {}' .format(round(f1* 100 ), 2 ))"
   ]
  },
  {
   "cell_type": "markdown",
   "metadata": {},
   "source": [
    "## Building Extra Trees Classifier"
   ]
  },
  {
   "cell_type": "code",
   "execution_count": 40,
   "metadata": {},
   "outputs": [],
   "source": [
    "etc = ExtraTreesClassifier(random_state=1)"
   ]
  },
  {
   "cell_type": "code",
   "execution_count": 41,
   "metadata": {},
   "outputs": [
    {
     "data": {
      "text/plain": [
       "ExtraTreesClassifier(bootstrap=False, class_weight=None, criterion='gini',\n",
       "           max_depth=None, max_features='auto', max_leaf_nodes=None,\n",
       "           min_impurity_decrease=0.0, min_impurity_split=None,\n",
       "           min_samples_leaf=1, min_samples_split=2,\n",
       "           min_weight_fraction_leaf=0.0, n_estimators=10, n_jobs=1,\n",
       "           oob_score=False, random_state=1, verbose=0, warm_start=False)"
      ]
     },
     "execution_count": 41,
     "metadata": {},
     "output_type": "execute_result"
    }
   ],
   "source": [
    "etc.fit(normalised_train_df,y_train_balanced)"
   ]
  },
  {
   "cell_type": "markdown",
   "metadata": {},
   "source": [
    "### Prediction And Evaluation"
   ]
  },
  {
   "cell_type": "code",
   "execution_count": 42,
   "metadata": {},
   "outputs": [],
   "source": [
    "etc_pred =etc.predict(normalised_test_df)"
   ]
  },
  {
   "cell_type": "code",
   "execution_count": 43,
   "metadata": {},
   "outputs": [
    {
     "name": "stdout",
     "output_type": "stream",
     "text": [
      "Confusion Matrix: \n",
      "[[ 622   90]\n",
      " [ 182 1106]]\n",
      "\n",
      "\n",
      "Classification Report: \n",
      "             precision    recall  f1-score   support\n",
      "\n",
      "     stable       0.77      0.87      0.82       712\n",
      "   unstable       0.92      0.86      0.89      1288\n",
      "\n",
      "avg / total       0.87      0.86      0.87      2000\n",
      "\n"
     ]
    }
   ],
   "source": [
    "#Printing the confusion matrix and classification report\n",
    "print('Confusion Matrix: \\n{}'.format(confusion_matrix(y_test, etc_pred)))\n",
    "print('\\n')\n",
    "print('Classification Report: \\n{}'.format(classification_report(y_test, etc_pred)))"
   ]
  },
  {
   "cell_type": "markdown",
   "metadata": {},
   "source": [
    "### Accuracy ETC"
   ]
  },
  {
   "cell_type": "code",
   "execution_count": 44,
   "metadata": {},
   "outputs": [
    {
     "name": "stdout",
     "output_type": "stream",
     "text": [
      "Accuracy: 86.0\n"
     ]
    },
    {
     "data": {
      "text/plain": [
       "0.864"
      ]
     },
     "execution_count": 44,
     "metadata": {},
     "output_type": "execute_result"
    }
   ],
   "source": [
    "accuracy = accuracy_score(y_test, etc_pred) \n",
    "print( 'Accuracy: {}' .format(round(accuracy* 100 ), 2 ))\n",
    "accuracy"
   ]
  },
  {
   "cell_type": "markdown",
   "metadata": {},
   "source": [
    "### Precision ETC"
   ]
  },
  {
   "cell_type": "code",
   "execution_count": 45,
   "metadata": {},
   "outputs": [
    {
     "name": "stdout",
     "output_type": "stream",
     "text": [
      "Precision: 92.0\n"
     ]
    }
   ],
   "source": [
    "precision = precision_score(y_test, etc_pred,pos_label= 'unstable') \n",
    "print( 'Precision: {}' .format(round(precision* 100 ), 2 ))"
   ]
  },
  {
   "cell_type": "markdown",
   "metadata": {},
   "source": [
    "### Recall ETC"
   ]
  },
  {
   "cell_type": "code",
   "execution_count": 46,
   "metadata": {},
   "outputs": [
    {
     "name": "stdout",
     "output_type": "stream",
     "text": [
      "Recall: 86.0\n"
     ]
    }
   ],
   "source": [
    "recall = recall_score(y_test, etc_pred,pos_label= 'unstable') \n",
    "print( 'Recall: {}' .format(round(recall* 100 ), 2 ))"
   ]
  },
  {
   "cell_type": "markdown",
   "metadata": {},
   "source": [
    "### F1-Score"
   ]
  },
  {
   "cell_type": "code",
   "execution_count": 47,
   "metadata": {},
   "outputs": [
    {
     "name": "stdout",
     "output_type": "stream",
     "text": [
      "F1_score: 89.0\n"
     ]
    }
   ],
   "source": [
    "f1 = f1_score(y_test, etc_pred,pos_label= 'unstable') \n",
    "print( 'F1_score: {}' .format(round(f1* 100 ), 2 ))"
   ]
  },
  {
   "cell_type": "markdown",
   "metadata": {},
   "source": [
    "### Building XGBoost Model"
   ]
  },
  {
   "cell_type": "code",
   "execution_count": 48,
   "metadata": {},
   "outputs": [],
   "source": [
    "import xgboost as xgb #XGBoost stufff"
   ]
  },
  {
   "cell_type": "code",
   "execution_count": 49,
   "metadata": {},
   "outputs": [],
   "source": [
    "XGB = xgb.XGBClassifier(random_state =1)"
   ]
  },
  {
   "cell_type": "code",
   "execution_count": 50,
   "metadata": {},
   "outputs": [
    {
     "name": "stderr",
     "output_type": "stream",
     "text": [
      "C:\\Users\\user\\Anaconda3\\lib\\site-packages\\xgboost\\sklearn.py:1146: UserWarning: The use of label encoder in XGBClassifier is deprecated and will be removed in a future release. To remove this warning, do the following: 1) Pass option use_label_encoder=False when constructing XGBClassifier object; and 2) Encode your labels (y) as integers starting with 0, i.e. 0, 1, 2, ..., [num_class - 1].\n",
      "  warnings.warn(label_encoder_deprecation_msg, UserWarning)\n"
     ]
    },
    {
     "name": "stdout",
     "output_type": "stream",
     "text": [
      "[23:43:29] WARNING: C:/Users/Administrator/workspace/xgboost-win64_release_1.4.0/src/learner.cc:1095: Starting in XGBoost 1.3.0, the default evaluation metric used with the objective 'binary:logistic' was changed from 'error' to 'logloss'. Explicitly set eval_metric if you'd like to restore the old behavior.\n"
     ]
    },
    {
     "data": {
      "text/plain": [
       "XGBClassifier(base_score=0.5, booster='gbtree', colsample_bylevel=1,\n",
       "       colsample_bynode=1, colsample_bytree=1, gamma=0, gpu_id=-1,\n",
       "       importance_type='gain', interaction_constraints='',\n",
       "       learning_rate=0.300000012, max_delta_step=0, max_depth=6,\n",
       "       min_child_weight=1, missing=nan, monotone_constraints='()',\n",
       "       n_estimators=100, n_jobs=2, num_parallel_tree=1,\n",
       "       objective='binary:logistic', random_state=1, reg_alpha=0,\n",
       "       reg_lambda=1, scale_pos_weight=1, subsample=1, tree_method='exact',\n",
       "       use_label_encoder=True, validate_parameters=1, verbosity=None)"
      ]
     },
     "execution_count": 50,
     "metadata": {},
     "output_type": "execute_result"
    }
   ],
   "source": [
    "XGB.fit(normalised_train_df,y_train_balanced)"
   ]
  },
  {
   "cell_type": "markdown",
   "metadata": {},
   "source": [
    "### Prediction & Evaluation"
   ]
  },
  {
   "cell_type": "code",
   "execution_count": 51,
   "metadata": {},
   "outputs": [
    {
     "name": "stderr",
     "output_type": "stream",
     "text": [
      "C:\\Users\\user\\Anaconda3\\lib\\site-packages\\sklearn\\preprocessing\\label.py:151: DeprecationWarning: The truth value of an empty array is ambiguous. Returning False, but in future this will result in an error. Use `array.size > 0` to check that an array is not empty.\n",
      "  if diff:\n"
     ]
    }
   ],
   "source": [
    "XGB_pred = XGB.predict(normalised_test_df)"
   ]
  },
  {
   "cell_type": "code",
   "execution_count": 52,
   "metadata": {
    "scrolled": true
   },
   "outputs": [
    {
     "name": "stdout",
     "output_type": "stream",
     "text": [
      "Confusion Matrix: \n",
      "[[ 667   45]\n",
      " [  72 1216]]\n",
      "\n",
      "\n",
      "Classification Report: \n",
      "             precision    recall  f1-score   support\n",
      "\n",
      "     stable       0.90      0.94      0.92       712\n",
      "   unstable       0.96      0.94      0.95      1288\n",
      "\n",
      "avg / total       0.94      0.94      0.94      2000\n",
      "\n"
     ]
    }
   ],
   "source": [
    "#Printing the confusion matrix and classification report\n",
    "print('Confusion Matrix: \\n{}'.format(confusion_matrix(y_test, XGB_pred)))\n",
    "print('\\n')\n",
    "print('Classification Report: \\n{}'.format(classification_report(y_test, XGB_pred)))"
   ]
  },
  {
   "cell_type": "markdown",
   "metadata": {},
   "source": [
    "### Accuracy XGB"
   ]
  },
  {
   "cell_type": "code",
   "execution_count": 53,
   "metadata": {},
   "outputs": [
    {
     "name": "stdout",
     "output_type": "stream",
     "text": [
      "Accuracy: 94.0\n"
     ]
    },
    {
     "data": {
      "text/plain": [
       "0.9415"
      ]
     },
     "execution_count": 53,
     "metadata": {},
     "output_type": "execute_result"
    }
   ],
   "source": [
    "accuracy = accuracy_score(y_test, XGB_pred) \n",
    "print( 'Accuracy: {}' .format(round(accuracy* 100 ), 2 ))\n",
    "accuracy"
   ]
  },
  {
   "cell_type": "markdown",
   "metadata": {},
   "source": [
    "### Pecision XGB"
   ]
  },
  {
   "cell_type": "code",
   "execution_count": 54,
   "metadata": {},
   "outputs": [
    {
     "name": "stdout",
     "output_type": "stream",
     "text": [
      "Precision: 96.0\n"
     ]
    }
   ],
   "source": [
    "precision = precision_score(y_test, XGB_pred, pos_label= 'unstable') \n",
    "print( 'Precision: {}' .format(round(precision* 100 ), 2 ))"
   ]
  },
  {
   "cell_type": "markdown",
   "metadata": {},
   "source": [
    "### Recall XGB"
   ]
  },
  {
   "cell_type": "code",
   "execution_count": 55,
   "metadata": {},
   "outputs": [
    {
     "name": "stdout",
     "output_type": "stream",
     "text": [
      "Recall: 94.0\n"
     ]
    }
   ],
   "source": [
    "recall = recall_score(y_test, XGB_pred, pos_label= 'unstable') \n",
    "print( 'Recall: {}' .format(round(recall* 100 ), 2 ))"
   ]
  },
  {
   "cell_type": "markdown",
   "metadata": {},
   "source": [
    "### F1-Score XGB"
   ]
  },
  {
   "cell_type": "code",
   "execution_count": 56,
   "metadata": {},
   "outputs": [
    {
     "name": "stdout",
     "output_type": "stream",
     "text": [
      "F1_score: 95.0\n"
     ]
    }
   ],
   "source": [
    "f1 = f1_score(y_test, XGB_pred, pos_label= 'unstable') \n",
    "print( 'F1_score: {}' .format(round(f1* 100 ), 2 ))"
   ]
  },
  {
   "cell_type": "markdown",
   "metadata": {},
   "source": [
    "## Building LightGBM Model"
   ]
  },
  {
   "cell_type": "code",
   "execution_count": 57,
   "metadata": {},
   "outputs": [],
   "source": [
    "import lightgbm as lgb"
   ]
  },
  {
   "cell_type": "code",
   "execution_count": 58,
   "metadata": {},
   "outputs": [],
   "source": [
    "LGB = lgb.LGBMClassifier(random_state=1)"
   ]
  },
  {
   "cell_type": "code",
   "execution_count": 59,
   "metadata": {},
   "outputs": [
    {
     "data": {
      "text/plain": [
       "LGBMClassifier(boosting_type='gbdt', class_weight=None, colsample_bytree=1.0,\n",
       "        importance_type='split', learning_rate=0.1, max_depth=-1,\n",
       "        min_child_samples=20, min_child_weight=0.001, min_split_gain=0.0,\n",
       "        n_estimators=100, n_jobs=-1, num_leaves=31, objective=None,\n",
       "        random_state=1, reg_alpha=0.0, reg_lambda=0.0, silent=True,\n",
       "        subsample=1.0, subsample_for_bin=200000, subsample_freq=0)"
      ]
     },
     "execution_count": 59,
     "metadata": {},
     "output_type": "execute_result"
    }
   ],
   "source": [
    "LGB.fit(normalised_train_df,y_train_balanced)"
   ]
  },
  {
   "cell_type": "markdown",
   "metadata": {},
   "source": [
    "### Prediction And Evaluation on LGBM Model"
   ]
  },
  {
   "cell_type": "code",
   "execution_count": 60,
   "metadata": {},
   "outputs": [
    {
     "name": "stderr",
     "output_type": "stream",
     "text": [
      "C:\\Users\\user\\Anaconda3\\lib\\site-packages\\sklearn\\preprocessing\\label.py:151: DeprecationWarning: The truth value of an empty array is ambiguous. Returning False, but in future this will result in an error. Use `array.size > 0` to check that an array is not empty.\n",
      "  if diff:\n"
     ]
    }
   ],
   "source": [
    "LGB_pred = LGB.predict(normalised_test_df)"
   ]
  },
  {
   "cell_type": "code",
   "execution_count": 61,
   "metadata": {},
   "outputs": [
    {
     "name": "stdout",
     "output_type": "stream",
     "text": [
      "Confusion Matrix: \n",
      "[[ 660   52]\n",
      " [  88 1200]]\n",
      "\n",
      "\n",
      "Classification Report: \n",
      "             precision    recall  f1-score   support\n",
      "\n",
      "     stable       0.88      0.93      0.90       712\n",
      "   unstable       0.96      0.93      0.94      1288\n",
      "\n",
      "avg / total       0.93      0.93      0.93      2000\n",
      "\n"
     ]
    }
   ],
   "source": [
    "#Printing the confusion matrix and classification report\n",
    "print('Confusion Matrix: \\n{}'.format(confusion_matrix(y_test, LGB_pred)))\n",
    "print('\\n')\n",
    "print('Classification Report: \\n{}'.format(classification_report(y_test, LGB_pred)))"
   ]
  },
  {
   "cell_type": "markdown",
   "metadata": {},
   "source": [
    "### Accuracy LGBM"
   ]
  },
  {
   "cell_type": "code",
   "execution_count": 62,
   "metadata": {},
   "outputs": [
    {
     "name": "stdout",
     "output_type": "stream",
     "text": [
      "Accuracy: 93.0\n"
     ]
    },
    {
     "data": {
      "text/plain": [
       "0.93"
      ]
     },
     "execution_count": 62,
     "metadata": {},
     "output_type": "execute_result"
    }
   ],
   "source": [
    "accuracy = accuracy_score(y_test, LGB_pred) \n",
    "print( 'Accuracy: {}' .format(round(accuracy* 100 ), 2 ))\n",
    "accuracy"
   ]
  },
  {
   "cell_type": "markdown",
   "metadata": {},
   "source": [
    "### Precision LGBM"
   ]
  },
  {
   "cell_type": "code",
   "execution_count": 63,
   "metadata": {},
   "outputs": [
    {
     "name": "stdout",
     "output_type": "stream",
     "text": [
      "Precision: 96.0\n"
     ]
    }
   ],
   "source": [
    "precision = precision_score(y_test, LGB_pred, pos_label= 'unstable') \n",
    "print( 'Precision: {}' .format(round(precision* 100 ), 2 ))"
   ]
  },
  {
   "cell_type": "markdown",
   "metadata": {},
   "source": [
    "### Recall LGBM"
   ]
  },
  {
   "cell_type": "code",
   "execution_count": 64,
   "metadata": {},
   "outputs": [
    {
     "name": "stdout",
     "output_type": "stream",
     "text": [
      "Recall: 93.0\n"
     ]
    }
   ],
   "source": [
    "recall = recall_score(y_test, LGB_pred, pos_label= 'unstable') \n",
    "print( 'Recall: {}' .format(round(recall* 100 ), 2 ))"
   ]
  },
  {
   "cell_type": "markdown",
   "metadata": {},
   "source": [
    "### F1-Score LGBM"
   ]
  },
  {
   "cell_type": "code",
   "execution_count": 65,
   "metadata": {},
   "outputs": [
    {
     "name": "stdout",
     "output_type": "stream",
     "text": [
      "F1_score: 94.0\n"
     ]
    }
   ],
   "source": [
    "f1 = f1_score(y_test, LGB_pred, pos_label= 'unstable') \n",
    "print( 'F1_score: {}' .format(round(f1* 100 ), 2 ))"
   ]
  },
  {
   "cell_type": "markdown",
   "metadata": {},
   "source": [
    "## Building Randomized SearchCV Model on the ExtraTreeClassifier"
   ]
  },
  {
   "cell_type": "code",
   "execution_count": 66,
   "metadata": {},
   "outputs": [],
   "source": [
    "from sklearn.model_selection import RandomizedSearchCV"
   ]
  },
  {
   "cell_type": "code",
   "execution_count": 67,
   "metadata": {},
   "outputs": [],
   "source": [
    "# Initiating parameters for hyperparameter_grid\n",
    "n_estimators = [50, 100, 300, 500, 1000]\n",
    "\n",
    "min_samples_split = [2, 3, 5, 7, 9]\n",
    "\n",
    "min_samples_leaf = [1, 2, 4, 6, 8]\n",
    "\n",
    "max_features = ['auto', 'sqrt', 'log2', None]"
   ]
  },
  {
   "cell_type": "code",
   "execution_count": 68,
   "metadata": {},
   "outputs": [],
   "source": [
    "hyperparameter_grid = {'n_estimators': n_estimators,\n",
    "\n",
    "'min_samples_leaf': min_samples_leaf,\n",
    "\n",
    "'min_samples_split': min_samples_split,\n",
    "\n",
    "'max_features': max_features}"
   ]
  },
  {
   "cell_type": "code",
   "execution_count": 69,
   "metadata": {},
   "outputs": [],
   "source": [
    "rcv = RandomizedSearchCV(etc, hyperparameter_grid, n_iter=10, cv=5, scoring = 'accuracy', n_jobs = -1, verbose = 1, random_state = 1)"
   ]
  },
  {
   "cell_type": "code",
   "execution_count": 70,
   "metadata": {},
   "outputs": [
    {
     "name": "stdout",
     "output_type": "stream",
     "text": [
      "Fitting 5 folds for each of 10 candidates, totalling 50 fits\n"
     ]
    },
    {
     "name": "stderr",
     "output_type": "stream",
     "text": [
      "[Parallel(n_jobs=-1)]: Done  46 tasks      | elapsed:  3.4min\n",
      "[Parallel(n_jobs=-1)]: Done  50 out of  50 | elapsed:  3.5min finished\n"
     ]
    }
   ],
   "source": [
    "RCV = rcv.fit(normalised_train_df, y_train_balanced)"
   ]
  },
  {
   "cell_type": "code",
   "execution_count": 71,
   "metadata": {},
   "outputs": [
    {
     "name": "stdout",
     "output_type": "stream",
     "text": [
      "{'bootstrap': False,\n",
      " 'class_weight': None,\n",
      " 'criterion': 'gini',\n",
      " 'max_depth': None,\n",
      " 'max_features': 'auto',\n",
      " 'max_leaf_nodes': None,\n",
      " 'min_impurity_decrease': 0.0,\n",
      " 'min_impurity_split': None,\n",
      " 'min_samples_leaf': 2,\n",
      " 'min_samples_split': 9,\n",
      " 'min_weight_fraction_leaf': 0.0,\n",
      " 'n_estimators': 300,\n",
      " 'n_jobs': 1,\n",
      " 'oob_score': False,\n",
      " 'random_state': 1,\n",
      " 'verbose': 0,\n",
      " 'warm_start': False}\n"
     ]
    }
   ],
   "source": [
    "#Getting the best estimator\n",
    "from pprint import pprint\n",
    "pprint(RCV.best_estimator_.get_params())"
   ]
  },
  {
   "cell_type": "code",
   "execution_count": 72,
   "metadata": {},
   "outputs": [
    {
     "name": "stdout",
     "output_type": "stream",
     "text": [
      "Best Score: 0.9494304791830322\n",
      "Best Hyperparameters: {'n_estimators': 300, 'min_samples_split': 9, 'min_samples_leaf': 2, 'max_features': 'auto'}\n"
     ]
    }
   ],
   "source": [
    "#Getting the Best Score and Hyperparameters\n",
    "print('Best Score: %s' % RCV.best_score_)\n",
    "print('Best Hyperparameters: %s' % RCV.best_params_)"
   ]
  },
  {
   "cell_type": "markdown",
   "metadata": {},
   "source": [
    "### Prediction And Evaluation-RSCV"
   ]
  },
  {
   "cell_type": "code",
   "execution_count": 73,
   "metadata": {},
   "outputs": [],
   "source": [
    "RCV_pred = rcv.predict(normalised_test_df)"
   ]
  },
  {
   "cell_type": "code",
   "execution_count": 74,
   "metadata": {},
   "outputs": [
    {
     "name": "stdout",
     "output_type": "stream",
     "text": [
      "Confusion Matrix: \n",
      "[[ 648   64]\n",
      " [  95 1193]]\n",
      "\n",
      "\n",
      "Classification Report: \n",
      "             precision    recall  f1-score   support\n",
      "\n",
      "     stable       0.87      0.91      0.89       712\n",
      "   unstable       0.95      0.93      0.94      1288\n",
      "\n",
      "avg / total       0.92      0.92      0.92      2000\n",
      "\n"
     ]
    }
   ],
   "source": [
    "#Printing the confusion matrix and classification report\n",
    "print('Confusion Matrix: \\n{}'.format(confusion_matrix(y_test, RCV_pred)))\n",
    "print('\\n')\n",
    "print('Classification Report: \\n{}'.format(classification_report(y_test, RCV_pred)))"
   ]
  },
  {
   "cell_type": "markdown",
   "metadata": {},
   "source": [
    "### Accuracy-RSCV"
   ]
  },
  {
   "cell_type": "code",
   "execution_count": 75,
   "metadata": {},
   "outputs": [
    {
     "name": "stdout",
     "output_type": "stream",
     "text": [
      "Accuracy: 92.0\n"
     ]
    }
   ],
   "source": [
    "accuracy = accuracy_score(y_test, RCV_pred) \n",
    "print( 'Accuracy: {}' .format(round(accuracy* 100 ), 2 ))"
   ]
  },
  {
   "cell_type": "markdown",
   "metadata": {},
   "source": [
    "### Precision-RSCV"
   ]
  },
  {
   "cell_type": "code",
   "execution_count": 76,
   "metadata": {},
   "outputs": [
    {
     "name": "stdout",
     "output_type": "stream",
     "text": [
      "Precision: 95.0\n"
     ]
    }
   ],
   "source": [
    "precision = precision_score(y_test, RCV_pred, pos_label= 'unstable') \n",
    "print( 'Precision: {}' .format(round(precision* 100 ), 2 ))"
   ]
  },
  {
   "cell_type": "markdown",
   "metadata": {},
   "source": [
    "### Recall-RSCV"
   ]
  },
  {
   "cell_type": "code",
   "execution_count": 77,
   "metadata": {},
   "outputs": [
    {
     "name": "stdout",
     "output_type": "stream",
     "text": [
      "Recall: 93.0\n"
     ]
    }
   ],
   "source": [
    "recall = recall_score(y_test, RCV_pred, pos_label= 'unstable') \n",
    "print( 'Recall: {}' .format(round(recall* 100 ), 2 ))"
   ]
  },
  {
   "cell_type": "markdown",
   "metadata": {},
   "source": [
    "### F1-Score RSCV"
   ]
  },
  {
   "cell_type": "code",
   "execution_count": 78,
   "metadata": {},
   "outputs": [
    {
     "name": "stdout",
     "output_type": "stream",
     "text": [
      "F1_score: 94.0\n"
     ]
    }
   ],
   "source": [
    "f1 = f1_score(y_test, RCV_pred, pos_label= 'unstable') \n",
    "print( 'F1_score: {}' .format(round(f1* 100 ), 2 ))"
   ]
  },
  {
   "cell_type": "markdown",
   "metadata": {},
   "source": [
    "### New optimal ExtraTreeClassifier Model Using RandomSearchCV Hyperparameters"
   ]
  },
  {
   "cell_type": "code",
   "execution_count": 79,
   "metadata": {},
   "outputs": [],
   "source": [
    "netc = ExtraTreesClassifier(n_estimators=300, min_samples_split=9, min_samples_leaf=2, max_features='auto',random_state=1)"
   ]
  },
  {
   "cell_type": "code",
   "execution_count": 80,
   "metadata": {},
   "outputs": [
    {
     "data": {
      "text/plain": [
       "ExtraTreesClassifier(bootstrap=False, class_weight=None, criterion='gini',\n",
       "           max_depth=None, max_features='auto', max_leaf_nodes=None,\n",
       "           min_impurity_decrease=0.0, min_impurity_split=None,\n",
       "           min_samples_leaf=2, min_samples_split=9,\n",
       "           min_weight_fraction_leaf=0.0, n_estimators=300, n_jobs=1,\n",
       "           oob_score=False, random_state=1, verbose=0, warm_start=False)"
      ]
     },
     "execution_count": 80,
     "metadata": {},
     "output_type": "execute_result"
    }
   ],
   "source": [
    "netc.fit(normalised_train_df, y_train_balanced)"
   ]
  },
  {
   "cell_type": "code",
   "execution_count": 81,
   "metadata": {},
   "outputs": [],
   "source": [
    "netc_pred = netc.predict(normalised_test_df)"
   ]
  },
  {
   "cell_type": "code",
   "execution_count": 82,
   "metadata": {},
   "outputs": [
    {
     "name": "stdout",
     "output_type": "stream",
     "text": [
      "Accuracy: 92.0\n"
     ]
    },
    {
     "data": {
      "text/plain": [
       "0.9205"
      ]
     },
     "execution_count": 82,
     "metadata": {},
     "output_type": "execute_result"
    }
   ],
   "source": [
    "accuracy = accuracy_score(y_test, netc_pred) \n",
    "print( 'Accuracy: {}' .format(round(accuracy* 100 ), 2 ))\n",
    "accuracy"
   ]
  },
  {
   "cell_type": "markdown",
   "metadata": {},
   "source": [
    "### Checking the most important features using the new optimal ExtraTreeClassifier Model"
   ]
  },
  {
   "cell_type": "code",
   "execution_count": 83,
   "metadata": {},
   "outputs": [],
   "source": [
    "#Checking the most important features using the optimal ExtraTreeClassifier Model\n",
    "feature_importance = netc.feature_importances_"
   ]
  },
  {
   "cell_type": "code",
   "execution_count": 84,
   "metadata": {},
   "outputs": [],
   "source": [
    "feature_importance_normalized = np.std([tree.feature_importances_ for tree in \n",
    "                                        netc.estimators_],\n",
    "                                        axis = 0)"
   ]
  },
  {
   "cell_type": "code",
   "execution_count": 85,
   "metadata": {},
   "outputs": [
    {
     "data": {
      "image/png": "[encoded data removed]",
      "text/plain": [
       "<Figure size 432x288 with 1 Axes>"
      ]
     },
     "metadata": {
      "needs_background": "light"
     },
     "output_type": "display_data"
    }
   ],
   "source": [
    "plt.bar(X.columns, feature_importance_normalized)\n",
    "plt.xlabel('Feature Labels')\n",
    "plt.ylabel('Feature Importances')\n",
    "plt.title('Comparison of different Feature Importances')\n",
    "plt.show()"
   ]
  },
  {
   "cell_type": "code",
   "execution_count": null,
   "metadata": {},
   "outputs": [],
   "source": []
  }
 ],
 "metadata": {
  "kernelspec": {
   "display_name": "Python 3",
   "language": "python",
   "name": "python3"
  },
  "language_info": {
   "codemirror_mode": {
    "name": "ipython",
    "version": 3
   },
   "file_extension": ".py",
   "mimetype": "text/x-python",
   "name": "python",
   "nbconvert_exporter": "python",
   "pygments_lexer": "ipython3",
   "version": "3.7.4"
  }
 },
 "nbformat": 4,
 "nbformat_minor": 2
}
